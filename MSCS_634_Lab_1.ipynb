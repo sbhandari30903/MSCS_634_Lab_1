{
  "cells": [
    {
      "cell_type": "markdown",
      "id": "477285b9-d935-4ca4-ac1e-bab8cc623f17",
      "metadata": {},
      "source": [
        "**Name:** Shimon Bhandari   \n",
        "**Course:** Advanced Big Data and Data Mining (MSCS-634-M40)   \n",
        "**Lab Assignment:** Lab 1: Data Visualization, Data Preprocessing, and Statistical Analysis\n"
      ]
    },
    {
      "cell_type": "code",
      "execution_count": 2,
      "id": "66e8295e-3511-4564-b6fa-f8a390d0bf27",
      "metadata": {
        "trusted": true
      },
      "outputs": [],
      "source": [
        "import pandas as pd\n",
        "import numpy as np\n",
        "import matplotlib.pyplot as plt"
      ]
    },
    {
      "cell_type": "code",
      "execution_count": null,
      "id": "7a17dd05-bc9b-4774-910b-c9f29707e93b",
      "metadata": {
        "trusted": true
      },
      "outputs": [],
      "source": [
        "# Load the dataset\n",
        "file_path = \"./Real_Estate_Sales_2001-2022_GL.csv\"\n",
        "df = pd.read_csv(file_path, low_memory=False)\n",
        "\n",
        "# Display the first five rows of the dataset\n",
        "df.head()"
      ]
    },
    {
      "cell_type": "code",
      "execution_count": 9,
      "id": "b6742cb4-066f-4b9a-a915-5a67a4e7b65f",
      "metadata": {
        "trusted": true
      },
      "outputs": [],
      "source": [
        "# Convert date column to datetime for plotting trends\n",
        "df[\"Date Recorded\"] = pd.to_datetime(df[\"Date Recorded\"], errors='coerce')\n",
        "\n",
        "# Drop rows with missing sale amount or date for line plot\n",
        "df_line = df.dropna(subset=[\"Sale Amount\", \"Date Recorded\"])\n",
        "\n",
        "# Group data by month for line plot\n",
        "df_line_monthly = df_line.resample('ME', on='Date Recorded')[\"Sale Amount\"].mean().reset_index()\n",
        "\n",
        "# Bar chart: Average sale amount per town (top 10 towns by frequency)\n",
        "top_towns = df[\"Town\"].value_counts().nlargest(10).index\n",
        "df_top_towns = df[df[\"Town\"].isin(top_towns)]\n",
        "avg_sale_by_town = df_top_towns.groupby(\"Town\")[\"Sale Amount\"].mean().sort_values(ascending=False)\n",
        "\n",
        "# Box plot: Sale Amount by Residential Type\n",
        "df_box = df.dropna(subset=[\"Sale Amount\", \"Residential Type\"])\n",
        "\n",
        "# Pie chart: Distribution of Property Types\n",
        "property_type_counts = df[\"Property Type\"].value_counts()"
      ]
    },
    {
      "cell_type": "code",
      "execution_count": null,
      "id": "2835acb8-5ebd-43fb-b8bc-98dc2a42e939",
      "metadata": {
        "trusted": true
      },
      "outputs": [],
      "source": [
        "# Line Plot: Monthly Average Sale Amount Over Time\n",
        "plt.figure(figsize=(10, 6))\n",
        "plt.plot(df_line_monthly[\"Date Recorded\"], df_line_monthly[\"Sale Amount\"], marker='o')\n",
        "plt.title(\"Line Plot: Monthly Average Sale Amount Over Time\")\n",
        "plt.xlabel(\"Date\")\n",
        "plt.ylabel(\"Average Sale Amount\")\n",
        "plt.grid(True)\n",
        "plt.tight_layout()\n",
        "plt.show()"
      ]
    },
    {
      "cell_type": "code",
      "execution_count": null,
      "id": "117447cc-62f5-4893-9f23-c1e0b0e65f59",
      "metadata": {
        "trusted": true
      },
      "outputs": [],
      "source": [
        "# Bar Chart: Average Sale Amount by Town (Top 10)\n",
        "plt.figure(figsize=(10, 6))\n",
        "plt.bar(avg_sale_by_town.index, avg_sale_by_town.values)\n",
        "plt.title(\"Bar Chart: Average Sale Amount by Town (Top 10)\")\n",
        "plt.xlabel(\"Town\")\n",
        "plt.ylabel(\"Average Sale Amount\")\n",
        "plt.xticks(rotation=45)\n",
        "plt.tight_layout()\n",
        "plt.show()"
      ]
    },
    {
      "cell_type": "code",
      "execution_count": null,
      "id": "0229095d-527d-4669-b4b9-628090f2ee35",
      "metadata": {
        "trusted": true
      },
      "outputs": [],
      "source": [
        "# Pie Chart: Property Type Distribution\n",
        "plt.figure(figsize=(5, 5))\n",
        "plt.pie(property_type_counts.values, labels=property_type_counts.index, autopct='%1.1f%%', startangle=90)\n",
        "plt.title(\"Pie Chart: Property Type Distribution\")\n",
        "plt.tight_layout()\n",
        "plt.show()"
      ]
    },
    {
      "cell_type": "code",
      "execution_count": null,
      "id": "b62cc9fc-606f-4b44-bc88-d323f2e9b407",
      "metadata": {
        "trusted": true
      },
      "outputs": [],
      "source": [
        "# Re-import required libraries due to kernel reset\n",
        "import pandas as pd\n",
        "\n",
        "# Reload the dataset\n",
        "file_path = \"./Real_Estate_Sales_2001-2022_GL.csv\"\n",
        "df = pd.read_csv(file_path, low_memory=False)\n",
        "\n",
        "# Count missing values in each column before cleaning\n",
        "missing_before = df.isnull().sum()\n",
        "\n",
        "# Fill numeric columns with mean, categorical with mode\n",
        "df_cleaned = df.copy()\n",
        "for col in df_cleaned.columns:\n",
        "    if df_cleaned[col].dtype in ['float64', 'int64']:\n",
        "        df_cleaned[col] = df_cleaned[col].fillna(df_cleaned[col].mean())\n",
        "    else:\n",
        "        df_cleaned[col] = df_cleaned[col].fillna(df_cleaned[col].mode()[0])\n",
        "\n",
        "# Count missing values after cleaning\n",
        "missing_after = df_cleaned.isnull().sum()\n",
        "df_cleaned.head()\n",
        "\n",
        "# Show the changes in missing values\n",
        "missing_before, missing_after"
      ]
    },
    {
      "cell_type": "code",
      "execution_count": null,
      "id": "8f9b6260-c91f-42a4-9fcf-379f0151ba2a",
      "metadata": {
        "trusted": true
      },
      "outputs": [],
      "source": [
        "# Re-import after re-upload\n",
        "file_path = \"./Real_Estate_Sales_2001-2022_GL.csv\"\n",
        "df = pd.read_csv(file_path, low_memory=False)\n",
        "\n",
        "# Re-cleaning missing values\n",
        "df_cleaned = df.copy()\n",
        "for col in df_cleaned.columns:\n",
        "    if df_cleaned[col].dtype in ['float64', 'int64']:\n",
        "        df_cleaned[col] = df_cleaned[col].fillna(df_cleaned[col].mean())\n",
        "    else:\n",
        "        df_cleaned[col] = df_cleaned[col].fillna(df_cleaned[col].mode()[0])\n",
        "\n",
        "# Outlier detection on 'Sale Amount'\n",
        "Q1 = df_cleaned['Sale Amount'].quantile(0.25)\n",
        "Q3 = df_cleaned['Sale Amount'].quantile(0.75)\n",
        "IQR = Q3 - Q1\n",
        "\n",
        "lower_bound = Q1 - 1.5 * IQR\n",
        "upper_bound = Q3 + 1.5 * IQR\n",
        "\n",
        "outliers = df_cleaned[(df_cleaned['Sale Amount'] < lower_bound) | (df_cleaned['Sale Amount'] > upper_bound)]\n",
        "df_no_outliers = df_cleaned[(df_cleaned['Sale Amount'] >= lower_bound) & (df_cleaned['Sale Amount'] <= upper_bound)]\n",
        "\n",
        "# Output summary\n",
        "{\n",
        "    \"Q1\": Q1,\n",
        "    \"Q3\": Q3,\n",
        "    \"IQR\": IQR,\n",
        "    \"Lower Bound\": lower_bound,\n",
        "    \"Upper Bound\": upper_bound,\n",
        "    \"Number of Outliers\": len(outliers),\n",
        "    \"Dataset Size Before\": len(df_cleaned),\n",
        "    \"Dataset Size After\": len(df_no_outliers)\n",
        "}\n"
      ]
    },
    {
      "cell_type": "code",
      "execution_count": null,
      "id": "fa991fc7-0df1-4d7f-9130-ef6045303917",
      "metadata": {
        "trusted": true
      },
      "outputs": [],
      "source": [
        "# Reload the uploaded dataset\n",
        "file_path = \"./Real_Estate_Sales_2001-2022_GL.csv\"\n",
        "df = pd.read_csv(file_path, dtype=str, low_memory=False)\n",
        "\n",
        "# Convert numeric columns to proper types\n",
        "numeric_columns = ['Assessed Value', 'Sale Amount', 'Sales Ratio']\n",
        "for col in numeric_columns:\n",
        "    df[col] = pd.to_numeric(df[col], errors='coerce')\n",
        "\n",
        "# Fill missing values correctly\n",
        "df_cleaned = df.copy()\n",
        "for col in df_cleaned.columns:\n",
        "    if df_cleaned[col].dtype in ['float64', 'int64']:\n",
        "        df_cleaned[col] = df_cleaned[col].fillna(df_cleaned[col].mean())\n",
        "    else:\n",
        "        df_cleaned[col] = df_cleaned[col].fillna(df_cleaned[col].mode()[0])\n",
        "\n",
        "# Remove outliers from 'Sale Amount' using IQR\n",
        "Q1 = df_cleaned['Sale Amount'].quantile(0.25)\n",
        "Q3 = df_cleaned['Sale Amount'].quantile(0.75)\n",
        "IQR = Q3 - Q1\n",
        "lower_bound = Q1 - 1.5 * IQR\n",
        "upper_bound = Q3 + 1.5 * IQR\n",
        "df_no_outliers = df_cleaned[(df_cleaned['Sale Amount'] >= lower_bound) & (df_cleaned['Sale Amount'] <= upper_bound)]\n",
        "\n",
        "# Step 3.3: Apply Data Reduction\n",
        "df_sampled = df_no_outliers.sample(frac=0.1, random_state=42)\n",
        "columns_to_drop = ['Serial Number', 'Address']\n",
        "df_reduced = df_sampled.drop(columns=columns_to_drop)\n",
        "\n",
        "# Display shape before and after reduction\n",
        "df_no_outliers.shape, df_reduced.shape\n"
      ]
    },
    {
      "cell_type": "code",
      "execution_count": null,
      "id": "08667d14-aecb-42ba-b4a6-5ea6ceb6c456",
      "metadata": {
        "trusted": true
      },
      "outputs": [],
      "source": [
        "# Re-load and prepare reduced dataset (lightweight version)\n",
        "file_path = \"./Real_Estate_Sales_2001-2022_GL.csv\"\n",
        "df = pd.read_csv(file_path, dtype=str, low_memory=False)\n",
        "\n",
        "# Convert relevant columns\n",
        "df['Assessed Value'] = pd.to_numeric(df['Assessed Value'], errors='coerce')\n",
        "df['Sale Amount'] = pd.to_numeric(df['Sale Amount'], errors='coerce')\n",
        "\n",
        "# Fill missing values\n",
        "df['Assessed Value'] = df['Assessed Value'].fillna(df['Assessed Value'].mean())\n",
        "df['Sale Amount'] = df['Sale Amount'].fillna(df['Sale Amount'].mean())\n",
        "\n",
        "# IQR filtering (repeat to get df_no_outliers)\n",
        "Q1 = df['Sale Amount'].quantile(0.25)\n",
        "Q3 = df['Sale Amount'].quantile(0.75)\n",
        "IQR = Q3 - Q1\n",
        "lower = Q1 - 1.5 * IQR\n",
        "upper = Q3 + 1.5 * IQR\n",
        "df_no_outliers = df[(df['Sale Amount'] >= lower) & (df['Sale Amount'] <= upper)]\n",
        "\n",
        "# Sample and drop columns\n",
        "df_reduced = df_no_outliers.sample(frac=0.1, random_state=42).drop(columns=[\"Serial Number\", \"Address\"], errors='ignore')\n",
        "\n",
        "# Manual Min-Max Scaling\n",
        "sale_min, sale_max = df_reduced['Sale Amount'].min(), df_reduced['Sale Amount'].max()\n",
        "df_reduced['Sale_MinMax'] = (df_reduced['Sale Amount'] - sale_min) / (sale_max - sale_min)\n",
        "\n",
        "# Manual Z-Score Normalization\n",
        "sale_mean = df_reduced['Sale Amount'].mean()\n",
        "sale_std = df_reduced['Sale Amount'].std()\n",
        "df_reduced['Sale_ZScore'] = (df_reduced['Sale Amount'] - sale_mean) / sale_std\n",
        "\n",
        "# Discretization into quartile bins\n",
        "df_reduced['Sale_Category'] = pd.qcut(df_reduced['Sale Amount'], 4, labels=[\"Low\", \"Medium\", \"High\", \"Very High\"])\n",
        "\n",
        "# Display results\n",
        "df_reduced[['Sale Amount', 'Sale_MinMax', 'Sale_ZScore', 'Sale_Category']].head()\n"
      ]
    },
    {
      "cell_type": "code",
      "execution_count": null,
      "id": "2300a58b-7153-42d0-8b49-cdf03558547a",
      "metadata": {
        "trusted": true
      },
      "outputs": [],
      "source": [
        "# Load dataset\n",
        "df = pd.read_csv(\"./Real_Estate_Sales_2001-2022_GL.csv\", low_memory=False)\n",
        "\n",
        "# Convert numeric columns\n",
        "df['Assessed Value'] = pd.to_numeric(df['Assessed Value'], errors='coerce')\n",
        "df['Sale Amount'] = pd.to_numeric(df['Sale Amount'], errors='coerce')\n",
        "\n",
        "# Drop rows with missing values in relevant columns\n",
        "df = df.dropna(subset=['Assessed Value', 'Sale Amount'])\n",
        "\n",
        "# Step 4.1: General Overview\n",
        "info_str = df.info()\n",
        "description = df.describe()\n"
      ]
    },
    {
      "cell_type": "code",
      "execution_count": null,
      "id": "f1404154-4480-4439-85d1-0137a61ad3f1",
      "metadata": {
        "trusted": true
      },
      "outputs": [],
      "source": [
        "# Step 4.2: Central Tendency\n",
        "central_tendency = {\n",
        "    \"Minimum\": df[\"Sale Amount\"].min(),\n",
        "    \"Maximum\": df[\"Sale Amount\"].max(),\n",
        "    \"Mean\": df[\"Sale Amount\"].mean(),\n",
        "    \"Median\": df[\"Sale Amount\"].median(),\n",
        "    \"Mode\": df[\"Sale Amount\"].mode().iloc[0]\n",
        "}\n",
        "\n",
        "central_tendency"
      ]
    },
    {
      "cell_type": "code",
      "execution_count": null,
      "id": "d0713ce6-f648-45ec-89d2-bb4c8259ceda",
      "metadata": {
        "trusted": true
      },
      "outputs": [],
      "source": [
        "# Step 4.3: Dispersion\n",
        "data_range = maximum - minimum\n",
        "q1 = df['Sale Amount'].quantile(0.25)\n",
        "q3 = df['Sale Amount'].quantile(0.75)\n",
        "iqr = q3 - q1\n",
        "variance = df['Sale Amount'].var()\n",
        "std_dev = df['Sale Amount'].std()\n",
        "{\n",
        "    \"Dispersion Measures\": {\n",
        "        \"Range\": data_range,\n",
        "        \"Q1\": q1,\n",
        "        \"Q3\": q3,\n",
        "        \"IQR\": iqr,\n",
        "        \"Variance\": variance,\n",
        "        \"Standard Deviation\": std_dev\n",
        "    }\n",
        "}"
      ]
    },
    {
      "cell_type": "code",
      "execution_count": null,
      "id": "50fa630d-99d9-4f84-af99-6fa74228e3bd",
      "metadata": {
        "trusted": true
      },
      "outputs": [],
      "source": [
        "# Step 4.4: Correlation Matrix\n",
        "correlation_matrix = df[['Assessed Value', 'Sale Amount']].corr()\n",
        "{\n",
        "    \"Correlation Matrix\": correlation_matrix\n",
        "}"
      ]
    }
  ],
  "metadata": {
    "kernelspec": {
      "display_name": "Python (Pyodide)",
      "language": "python",
      "name": "python"
    },
    "language_info": {
      "codemirror_mode": {
        "name": "python",
        "version": 3
      },
      "file_extension": ".py",
      "mimetype": "text/x-python",
      "name": "python",
      "nbconvert_exporter": "python",
      "pygments_lexer": "ipython3",
      "version": "3.8"
    }
  },
  "nbformat": 4,
  "nbformat_minor": 5
}
